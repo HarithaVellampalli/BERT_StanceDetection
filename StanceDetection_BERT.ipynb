{
 "cells": [
  {
   "cell_type": "code",
   "execution_count": null,
   "metadata": {},
   "outputs": [],
   "source": [
    "#Performing stance detection (Opinion mining) for tweets based on misinformation targets using the BERT model"
   ]
  },
  {
   "cell_type": "code",
   "execution_count": 7,
   "metadata": {
    "id": "WWUH7NdMHGEK"
   },
   "outputs": [
    {
     "name": "stdout",
     "output_type": "stream",
     "text": [
      "Collecting pytorch_transformers\n",
      "  Downloading pytorch_transformers-1.2.0-py3-none-any.whl (176 kB)\n",
      "\u001b[K     |████████████████████████████████| 176 kB 2.6 MB/s eta 0:00:01\n",
      "\u001b[?25hRequirement already satisfied: sacremoses in /Library/Frameworks/Python.framework/Versions/3.7/lib/python3.7/site-packages (from pytorch_transformers) (0.0.44)\n",
      "Collecting boto3\n",
      "  Downloading boto3-1.18.24-py3-none-any.whl (131 kB)\n",
      "\u001b[K     |████████████████████████████████| 131 kB 2.6 MB/s eta 0:00:01\n",
      "\u001b[?25hRequirement already satisfied: torch>=1.0.0 in /Library/Frameworks/Python.framework/Versions/3.7/lib/python3.7/site-packages (from pytorch_transformers) (1.6.0)\n",
      "Collecting sentencepiece\n",
      "  Downloading sentencepiece-0.1.96-cp37-cp37m-macosx_10_6_x86_64.whl (1.1 MB)\n",
      "\u001b[K     |████████████████████████████████| 1.1 MB 2.4 MB/s eta 0:00:01\n",
      "\u001b[?25hRequirement already satisfied: regex in /Library/Frameworks/Python.framework/Versions/3.7/lib/python3.7/site-packages (from pytorch_transformers) (2021.4.4)\n",
      "Requirement already satisfied: tqdm in /Library/Frameworks/Python.framework/Versions/3.7/lib/python3.7/site-packages (from pytorch_transformers) (4.50.2)\n",
      "Requirement already satisfied: numpy in /Library/Frameworks/Python.framework/Versions/3.7/lib/python3.7/site-packages (from pytorch_transformers) (1.18.5)\n",
      "Requirement already satisfied: requests in /Library/Frameworks/Python.framework/Versions/3.7/lib/python3.7/site-packages (from pytorch_transformers) (2.23.0)\n",
      "Requirement already satisfied: joblib in /Library/Frameworks/Python.framework/Versions/3.7/lib/python3.7/site-packages (from sacremoses->pytorch_transformers) (0.16.0)\n",
      "Requirement already satisfied: six in /Library/Frameworks/Python.framework/Versions/3.7/lib/python3.7/site-packages (from sacremoses->pytorch_transformers) (1.15.0)\n",
      "Requirement already satisfied: click in /Library/Frameworks/Python.framework/Versions/3.7/lib/python3.7/site-packages (from sacremoses->pytorch_transformers) (7.1.2)\n",
      "Collecting jmespath<1.0.0,>=0.7.1\n",
      "  Downloading jmespath-0.10.0-py2.py3-none-any.whl (24 kB)\n",
      "Collecting botocore<1.22.0,>=1.21.24\n",
      "  Downloading botocore-1.21.24-py3-none-any.whl (7.8 MB)\n",
      "\u001b[K     |████████████████████████████████| 7.8 MB 1.7 MB/s eta 0:00:01     |████████▉                       | 2.2 MB 2.2 MB/s eta 0:00:03\n",
      "\u001b[?25hCollecting s3transfer<0.6.0,>=0.5.0\n",
      "  Downloading s3transfer-0.5.0-py3-none-any.whl (79 kB)\n",
      "\u001b[K     |████████████████████████████████| 79 kB 2.3 MB/s eta 0:00:01\n",
      "\u001b[?25hRequirement already satisfied: future in /Library/Frameworks/Python.framework/Versions/3.7/lib/python3.7/site-packages (from torch>=1.0.0->pytorch_transformers) (0.18.2)\n",
      "Requirement already satisfied: urllib3!=1.25.0,!=1.25.1,<1.26,>=1.21.1 in /Library/Frameworks/Python.framework/Versions/3.7/lib/python3.7/site-packages (from requests->pytorch_transformers) (1.25.9)\n",
      "Requirement already satisfied: idna<3,>=2.5 in /Library/Frameworks/Python.framework/Versions/3.7/lib/python3.7/site-packages (from requests->pytorch_transformers) (2.9)\n",
      "Requirement already satisfied: chardet<4,>=3.0.2 in /Library/Frameworks/Python.framework/Versions/3.7/lib/python3.7/site-packages (from requests->pytorch_transformers) (3.0.4)\n",
      "Requirement already satisfied: certifi>=2017.4.17 in /Library/Frameworks/Python.framework/Versions/3.7/lib/python3.7/site-packages (from requests->pytorch_transformers) (2020.6.20)\n",
      "Requirement already satisfied: python-dateutil<3.0.0,>=2.1 in /Library/Frameworks/Python.framework/Versions/3.7/lib/python3.7/site-packages (from botocore<1.22.0,>=1.21.24->boto3->pytorch_transformers) (2.8.1)\n",
      "Installing collected packages: jmespath, botocore, s3transfer, boto3, sentencepiece, pytorch-transformers\n",
      "Successfully installed boto3-1.18.24 botocore-1.21.24 jmespath-0.10.0 pytorch-transformers-1.2.0 s3transfer-0.5.0 sentencepiece-0.1.96\n",
      "\u001b[33mWARNING: You are using pip version 20.2.3; however, version 21.2.4 is available.\n",
      "You should consider upgrading via the '/Library/Frameworks/Python.framework/Versions/3.7/bin/python3.7 -m pip install --upgrade pip' command.\u001b[0m\n"
     ]
    },
    {
     "ename": "ModuleNotFoundError",
     "evalue": "No module named 'pytorch_transformers'",
     "output_type": "error",
     "traceback": [
      "\u001b[0;31m---------------------------------------------------------------------------\u001b[0m",
      "\u001b[0;31mModuleNotFoundError\u001b[0m                       Traceback (most recent call last)",
      "\u001b[0;32m<ipython-input-7-5395501594c0>\u001b[0m in \u001b[0;36m<module>\u001b[0;34m\u001b[0m\n\u001b[1;32m     17\u001b[0m \u001b[0;32mimport\u001b[0m \u001b[0mtorch\u001b[0m\u001b[0;34m.\u001b[0m\u001b[0mnn\u001b[0m \u001b[0;32mas\u001b[0m \u001b[0mnn\u001b[0m\u001b[0;34m\u001b[0m\u001b[0;34m\u001b[0m\u001b[0m\n\u001b[1;32m     18\u001b[0m \u001b[0;32mfrom\u001b[0m \u001b[0mtorch\u001b[0m\u001b[0;34m.\u001b[0m\u001b[0mautograd\u001b[0m \u001b[0;32mimport\u001b[0m \u001b[0mVariable\u001b[0m\u001b[0;34m\u001b[0m\u001b[0;34m\u001b[0m\u001b[0m\n\u001b[0;32m---> 19\u001b[0;31m \u001b[0;32mfrom\u001b[0m \u001b[0mpytorch_transformers\u001b[0m \u001b[0;32mimport\u001b[0m \u001b[0mBertConfig\u001b[0m\u001b[0;34m,\u001b[0m \u001b[0mBertTokenizer\u001b[0m\u001b[0;34m,\u001b[0m \u001b[0mBertModel\u001b[0m\u001b[0;34m,\u001b[0m \u001b[0mAdamW\u001b[0m\u001b[0;34m\u001b[0m\u001b[0;34m\u001b[0m\u001b[0m\n\u001b[0m\u001b[1;32m     20\u001b[0m \u001b[0;32mfrom\u001b[0m \u001b[0msklearn\u001b[0m\u001b[0;34m.\u001b[0m\u001b[0mmetrics\u001b[0m \u001b[0;32mimport\u001b[0m \u001b[0mf1_score\u001b[0m\u001b[0;34m,\u001b[0m \u001b[0mconfusion_matrix\u001b[0m\u001b[0;34m\u001b[0m\u001b[0;34m\u001b[0m\u001b[0m\n",
      "\u001b[0;31mModuleNotFoundError\u001b[0m: No module named 'pytorch_transformers'"
     ]
    }
   ],
   "source": [
    "from nltk.stem import WordNetLemmatizer\n",
    "from nltk.corpus import stopwords\n",
    "from google.colab import drive\n",
    "import logging\n",
    "import nltk\n",
    "import re\n",
    "import pickle\n",
    "import os\n",
    "import numpy as np\n",
    "import json\n",
    "import matplotlib.pyplot as plt\n",
    "from tqdm import trange\n",
    "\n",
    "!pip install pytorch_transformers \n",
    "import torch\n",
    "from torch.utils.data import DataLoader, Dataset\n",
    "import torch.nn as nn\n",
    "from torch.autograd import Variable\n",
    "from pytorch_transformers import BertConfig, BertTokenizer, BertModel, AdamW\n",
    "from sklearn.metrics import f1_score, confusion_matrix"
   ]
  },
  {
   "cell_type": "code",
   "execution_count": 5,
   "metadata": {
    "colab": {
     "base_uri": "https://localhost:8080/"
    },
    "id": "ziKrk2W0iBY9",
    "outputId": "0be2bb7a-2438-4cd0-a953-57061fccf7f3"
   },
   "outputs": [
    {
     "ename": "NameError",
     "evalue": "name 'drive' is not defined",
     "output_type": "error",
     "traceback": [
      "\u001b[0;31m---------------------------------------------------------------------------\u001b[0m",
      "\u001b[0;31mNameError\u001b[0m                                 Traceback (most recent call last)",
      "\u001b[0;32m<ipython-input-5-3b8a479202a4>\u001b[0m in \u001b[0;36m<module>\u001b[0;34m\u001b[0m\n\u001b[0;32m----> 1\u001b[0;31m \u001b[0mdrive\u001b[0m\u001b[0;34m.\u001b[0m\u001b[0mmount\u001b[0m\u001b[0;34m(\u001b[0m\u001b[0;34m'/content/drive'\u001b[0m\u001b[0;34m)\u001b[0m\u001b[0;34m\u001b[0m\u001b[0;34m\u001b[0m\u001b[0m\n\u001b[0m",
      "\u001b[0;31mNameError\u001b[0m: name 'drive' is not defined"
     ]
    }
   ],
   "source": [
    "drive.mount('/content/drive')"
   ]
  },
  {
   "cell_type": "code",
   "execution_count": 8,
   "metadata": {
    "colab": {
     "base_uri": "https://localhost:8080/"
    },
    "id": "Zsa9-FuTHN-R",
    "outputId": "d9f936b3-f64a-4175-d362-7773efe1dedf"
   },
   "outputs": [
    {
     "name": "stderr",
     "output_type": "stream",
     "text": [
      "[nltk_data] Downloading package stopwords to\n",
      "[nltk_data]     /Users/harithav/nltk_data...\n",
      "[nltk_data]   Unzipping corpora/stopwords.zip.\n",
      "[nltk_data] Downloading package wordnet to\n",
      "[nltk_data]     /Users/harithav/nltk_data...\n",
      "[nltk_data]   Unzipping corpora/wordnet.zip.\n"
     ]
    },
    {
     "data": {
      "text/plain": [
       "True"
      ]
     },
     "execution_count": 8,
     "metadata": {},
     "output_type": "execute_result"
    }
   ],
   "source": [
    "nltk.download('stopwords')\n",
    "nltk.download('wordnet')"
   ]
  },
  {
   "cell_type": "code",
   "execution_count": 9,
   "metadata": {
    "colab": {
     "base_uri": "https://localhost:8080/",
     "height": 36
    },
    "id": "1NEwaH-zDiX5",
    "outputId": "1bf1cb47-3a39-497a-842f-a31745879e96"
   },
   "outputs": [],
   "source": [
    "# Word lemmatizer\n",
    "stop_words = set(stopwords.words('english'))\n",
    "lemmatizer = WordNetLemmatizer()\n",
    "\n",
    "def clean_text(text):\n",
    "    text = re.sub(r'[^\\w\\s]', '', text, re.UNICODE)\n",
    "    text = text.lower()\n",
    "    text = [lemmatizer.lemmatize(token) for token in text.split(' ')]\n",
    "    text = [lemmatizer.lemmatize(token, 'v') for token in text]\n",
    "    text = [word for word in text if word not in stop_words]\n",
    "    text = ' '.join(text)\n",
    "    text = text.lstrip().rstrip()\n",
    "    text = re.sub(' +', ' ', text)\n",
    "    return text"
   ]
  },
  {
   "cell_type": "code",
   "execution_count": null,
   "metadata": {
    "id": "YikvGoScfiiz"
   },
   "outputs": [],
   "source": [
    "logging.getLogger('pytorch_transformers').setLevel(logging.CRITICAL)"
   ]
  },
  {
   "cell_type": "code",
   "execution_count": null,
   "metadata": {
    "colab": {
     "base_uri": "https://localhost:8080/"
    },
    "id": "RsTCVtZmfrbi",
    "outputId": "b3b2cf63-6e89-483c-820c-94454ef2da13"
   },
   "outputs": [
    {
     "name": "stdout",
     "output_type": "stream",
     "text": [
      "DEVICE FOUND: cuda\n"
     ]
    }
   ],
   "source": [
    "DEVICE = torch.device('cuda' if torch.cuda.is_available() else 'cpu')\n",
    "print(\"DEVICE FOUND: %s\" % DEVICE)"
   ]
  },
  {
   "cell_type": "code",
   "execution_count": null,
   "metadata": {
    "id": "LI7hT5t4gBVv"
   },
   "outputs": [],
   "source": [
    "SEED = 123\n",
    "torch.manual_seed(seed=SEED)\n",
    "torch.backends.cudnn.deterministic = True"
   ]
  },
  {
   "cell_type": "code",
   "execution_count": null,
   "metadata": {
    "id": "mzK9F-dYgEAp"
   },
   "outputs": [],
   "source": [
    "# Initialize Hyperparameters\n",
    "NUM_EPOCHS = 20\n",
    "BATCH_SIZE = 64\n",
    "\n",
    "PRETRAINED_MODEL_NAME = 'bert-base-cased'\n",
    "NUM_PRETRAINED_BERT_LAYERS = 1\n",
    "MAX_TOKENIZATION_LENGTH = 512\n",
    "NUM_CLASSES = 4 # agree, disagree, no_stance, not_relevant\n",
    "TOP_DOWN = True\n",
    "NUM_RECURRENT_LAYERS = 1\n",
    "HIDDEN_SIZE = 256\n",
    "REINITIALIZE_POOLER_PARAMETERS = True\n",
    "USE_BIDIRECTIONAL = True\n",
    "DROPOUT_RATE = 0.6\n",
    "AGGREGATE_ON_CLS_TOKEN = True\n",
    "CONCATENATE_HIDDEN_STATES = True\n",
    "\n",
    "APPLY_CLEANING = True\n",
    "TRUNCATION_METHOD = 'head-only'\n",
    "NUM_WORKERS = 0\n",
    "\n",
    "BERT_LEARNING_RATE = 1e-5\n",
    "CUSTOM_LEARNING_RATE = 1e-4\n",
    "BETAS = (0.9, 0.999)\n",
    "BERT_WEIGHT_DECAY = 0.01\n",
    "EPS = 1e-8"
   ]
  },
  {
   "cell_type": "markdown",
   "metadata": {
    "id": "L11timVJih3P"
   },
   "source": [
    "### Finetuned Bert Model"
   ]
  },
  {
   "cell_type": "code",
   "execution_count": null,
   "metadata": {
    "id": "5dBeLwOujdTK"
   },
   "outputs": [],
   "source": [
    "targets = [\"RNA alters a person's DNA when taking the COVID-19 vaccine.\",\n",
    "            \"The COVID-19 vaccine causes infertility or miscarriages in women.\",\n",
    "            \"Natural COVID-19 immunity is better than immunity derived from a COVID-19 vaccine.\",\n",
    "            \"The COVID-19 vaccine causes Bell's palsy.\",\n",
    "            \"The COVID-19 vaccine contains tissue from aborted fetuses.\",\n",
    "            \"The COVID-19 vaccine was developed to control the general population either through microchip tracking or nanotransducers in our brains.\",\n",
    "            \"More people will die as a result of a negative side effect to the COVID-19 vaccine than would actually die from the coronavirus.\",\n",
    "            \"There are severe side effects of the coronavirus vaccines, worse than having the virus.\"]\n",
    "target_idx = [1,2,3,4,7,8,9,10]"
   ]
  },
  {
   "cell_type": "code",
   "execution_count": null,
   "metadata": {
    "id": "Fg3kSUr7vQIZ"
   },
   "outputs": [],
   "source": [
    "class FineTunedBert(nn.Module):\n",
    "    def __init__(self, pretrained_model_name, num_pretrained_bert_layers, max_tokenization_length, vocab_file = '',\n",
    "                 num_classes=1, top_down=True, num_recurrent_layers=1, use_bidirectional=False,\n",
    "                 hidden_size=128, reinitialize_pooler_parameters=False, dropout_rate=0.10,\n",
    "                 aggregate_on_cls_token=True, concatenate_hidden_states=False, use_gpu=False):\n",
    "        super(FineTunedBert, self).__init__()\n",
    "        self.num_recurrent_layers = num_recurrent_layers\n",
    "        self.use_bidirectional = use_bidirectional\n",
    "        self.hidden_size = hidden_size\n",
    "        self.aggregate_on_cls_token = aggregate_on_cls_token\n",
    "        self.concatenate_hidden_states = concatenate_hidden_states\n",
    "        self.use_gpu = use_gpu\n",
    "\n",
    "        # Tokenizer\n",
    "        self.tokenizer = BertTokenizer.from_pretrained(pretrained_model_name)\n",
    "        self.tokenizer.max_len = max_tokenization_length\n",
    "        self.tokenizer.vocab_file = vocab_file\n",
    "\n",
    "        # Obtain global BERT config\n",
    "        self.config = BertConfig.from_pretrained(pretrained_model_name)\n",
    "        # Extract all parameters (weights and bias matrices) for the 12 layers\n",
    "        all_states_dict = BertModel.from_pretrained(pretrained_model_name,\n",
    "                                                    config=self.config).state_dict()\n",
    "\n",
    "        # Obtain customized BERT config\n",
    "        self.config.max_position_embeddings = max_tokenization_length\n",
    "        self.config.num_hidden_layers = num_pretrained_bert_layers\n",
    "        self.config.output_hidden_states = True\n",
    "        self.config.output_attentions = True\n",
    "\n",
    "        # Obtain pretrained BERT model & all its learnable parameters\n",
    "        self.bert = BertModel.from_pretrained(pretrained_model_name,\n",
    "                                              config=self.config)\n",
    "        current_states_dict = self.bert.state_dict()\n",
    "\n",
    "        if top_down:\n",
    "            for param in current_states_dict.keys():\n",
    "                if 'pooler' not in param or not reinitialize_pooler_parameters:\n",
    "                    current_states_dict[param] = all_states_dict[param]\n",
    "                else:\n",
    "                    if 'weight' in param:\n",
    "                        current_states_dict[param] = torch.ones(self.config.hidden_size,\n",
    "                                                                self.config.hidden_size)\n",
    "                    elif 'bias' in param:\n",
    "                        current_states_dict[param] = torch.zeros(self.config.hidden_size)\n",
    "\n",
    "        else:\n",
    "            align = 5 + ((12 - num_pretrained_bert_layers) * 16)\n",
    "            for index, param in enumerate(current_states_dict.keys()):\n",
    "                # There are 5 initial (shared) parameters from embeddings in each BERT model\n",
    "                if index < 5 and 'embeddings' in param:\n",
    "                    current_states_dict[param] = all_states_dict[param]\n",
    "                # There are 16 parameters for each of the K pretrained BERT layers (16 x K params)\n",
    "                elif index >= 5 and 'pooler' not in param:\n",
    "                    current_states_dict[param] = list(all_states_dict.values())[align:][index-5]\n",
    "                # There are 2 parameters for the pooling layer at the end in each BERT model\n",
    "                else:\n",
    "                    if not reinitialize_pooler_parameters:\n",
    "                        current_states_dict[param] = all_states_dict[param]\n",
    "                    else:\n",
    "                        if 'weight' in param:\n",
    "                            current_states_dict[param] = torch.ones(self.config.hidden_size,\n",
    "                                                                    self.config.hidden_size)\n",
    "                        elif 'bias' in param:\n",
    "                            current_states_dict[param] = torch.zeros(self.config.hidden_size)\n",
    "\n",
    "        del all_states_dict\n",
    "        self.bert.load_state_dict(current_states_dict)\n",
    "\n",
    "        logging.info('Loaded %d learnable parameters from pretrained BERT model with %d layer(s)' %\n",
    "                     (len(list(self.bert.parameters())), num_pretrained_bert_layers))\n",
    "\n",
    "        # Number of input hidden dimensions from the final BERT layer, as input to other layers\n",
    "        input_hidden_dimension = None\n",
    "        if concatenate_hidden_states:\n",
    "            input_hidden_dimension = (num_pretrained_bert_layers + 1) * self.config.hidden_size\n",
    "        else:\n",
    "            input_hidden_dimension = self.config.hidden_size\n",
    "\n",
    "        self.flatten_sequence_length = lambda t: t.view(-1,\n",
    "                                                        self.config.max_position_embeddings *\n",
    "                                                        input_hidden_dimension)\n",
    "\n",
    "        self.dropout = nn.Dropout(p=dropout_rate)\n",
    "        if self.num_recurrent_layers > 0:\n",
    "            self.lstm = nn.LSTM(input_size=input_hidden_dimension,\n",
    "                                hidden_size=hidden_size,\n",
    "                                num_layers=num_recurrent_layers,\n",
    "                                bidirectional=use_bidirectional,\n",
    "                                batch_first=True)\n",
    "            self.clf = nn.Linear(in_features=hidden_size*2 if use_bidirectional else hidden_size,\n",
    "                                 out_features=num_classes)\n",
    "        else:\n",
    "            if aggregate_on_cls_token:\n",
    "                self.clf = nn.Linear(in_features=input_hidden_dimension,\n",
    "                                     out_features=num_classes)\n",
    "            else:\n",
    "                self.clf = nn.Linear(in_features=max_tokenization_length * input_hidden_dimension,\n",
    "                                     out_features=num_classes)\n",
    "\n",
    "    def get_tokenizer(self):\n",
    "        \"\"\"Function to easily access the BERT tokenizer\"\"\"\n",
    "        return self.tokenizer\n",
    "\n",
    "    def get_bert_attention(self, raw_sentence, header, device):\n",
    "        \"\"\"Function for getting the multi-head self-attention output from pretrained BERT\"\"\"\n",
    "        x = tokenize_and_encode(text=raw_sentence,                             \n",
    "                                header=header,\n",
    "                                tokenizer=self.get_tokenizer(),\n",
    "                                max_tokenization_length=self.config.max_position_embeddings,\n",
    "                                truncation_method='head-only')\n",
    "        x = torch.tensor(data=x, device=device)\n",
    "        x = x.unsqueeze(dim=1).view(1, -1)                                     \n",
    "\n",
    "        token_type_ids, attention_mask = get_features(input_ids=x,\n",
    "                                                      tokenizer=self.get_tokenizer(),\n",
    "                                                      device=device)\n",
    "        bert_outputs = self.bert(input_ids=x,                                  \n",
    "                                 token_type_ids=token_type_ids,\n",
    "                                 attention_mask=attention_mask,\n",
    "                                 position_ids=None,\n",
    "                                 head_mask=None)\n",
    "        attention_outputs = bert_outputs[3]                                    \n",
    "        return attention_outputs\n",
    "\n",
    "    def predict(self, text, header_id):\n",
    "        header = targets[target_idx.index(header_id)]\n",
    "        stance_input_ids = tokenize_and_encode(text, \n",
    "                                               self.get_tokenizer(), \n",
    "                                               header, \n",
    "                                               apply_cleaning=APPLY_CLEANING,\n",
    "                                               max_tokenization_length=MAX_TOKENIZATION_LENGTH,\n",
    "                                               truncation_method=TRUNCATION_METHOD)\n",
    "        stance_input_ids = torch.from_numpy(np.array(stance_input_ids).reshape(1, -1)).long().to(DEVICE)\n",
    "        stance_token_id, stance_attention_mask = get_features(stance_input_ids,\n",
    "                                                              tokenizer=self.get_tokenizer(),\n",
    "                                                              device=DEVICE)\n",
    "        return self.forward(input_ids=stance_input_ids,\n",
    "                            token_type_ids=stance_token_id,\n",
    "                            attention_mask=stance_attention_mask)\n",
    "  \n",
    "    def forward(self, input_ids, token_type_ids=None, attention_mask=None,     \n",
    "                position_ids=None, head_mask=None):\n",
    "        \"\"\"Function implementing a forward pass of the model\"\"\"\n",
    "        bert_outputs = self.bert(input_ids=input_ids,\n",
    "                                 token_type_ids=token_type_ids,\n",
    "                                 attention_mask=attention_mask,\n",
    "                                 position_ids=position_ids,\n",
    "                                 head_mask=head_mask)\n",
    "        sequence_output = bert_outputs[0]                                      \n",
    "        pooled_output = bert_outputs[1]                                        \n",
    "        hidden_outputs = bert_outputs[2]                                       \n",
    "        attention_outputs = bert_outputs[3]                                    \n",
    "\n",
    "        if self.concatenate_hidden_states:\n",
    "            sequence_output = torch.cat(hidden_outputs, dim=-1)               \n",
    "\n",
    "        if self.num_recurrent_layers > 0:\n",
    "            if self.use_gpu:\n",
    "                h0 = Variable(torch.zeros(self.num_recurrent_layers * 2        \n",
    "                                          if self.use_bidirectional else self.num_recurrent_layers,\n",
    "                                          input_ids.shape[0],\n",
    "                                          self.hidden_size)).cuda()\n",
    "                c0 = Variable(torch.zeros(self.num_recurrent_layers * 2        \n",
    "                                          if self.use_bidirectional else self.num_recurrent_layers,\n",
    "                                          input_ids.shape[0],\n",
    "                                          self.hidden_size)).cuda()\n",
    "            else:\n",
    "                h0 = Variable(torch.zeros(self.num_recurrent_layers * 2        \n",
    "                                          if self.use_bidirectional else self.num_recurrent_layers,\n",
    "                                          input_ids.shape[0],\n",
    "                                          self.hidden_size))\n",
    "                c0 = Variable(torch.zeros(self.num_recurrent_layers * 2        \n",
    "                                          if self.use_bidirectional else self.num_recurrent_layers,\n",
    "                                          input_ids.shape[0],\n",
    "                                          self.hidden_size))\n",
    "\n",
    "            lstm_output = self.lstm(sequence_output, (h0, c0))                 )\n",
    "            sequence_output, _ = lstm_output\n",
    "\n",
    "            last_timesteps = []\n",
    "            for i in range(len(attention_mask)):\n",
    "                last_timesteps.append(\n",
    "                    attention_mask[i].tolist().index(0)\n",
    "                    if 0 in attention_mask[i].tolist() else self.tokenizer.max_len - 1\n",
    "                )\n",
    "\n",
    "            if self.use_gpu:\n",
    "                last_timesteps = torch.tensor(data=last_timesteps).cuda()      \n",
    "            else:\n",
    "                last_timesteps = torch.tensor(data=last_timesteps)             \n",
    "            relative_hidden_size = self.hidden_size*2 if self.use_bidirectional else self.hidden_size\n",
    "            last_timesteps = last_timesteps.repeat(1, relative_hidden_size)    \n",
    "            last_timesteps = last_timesteps.view(-1, 1, relative_hidden_size)  \n",
    "            pooled_sequence_output = sequence_output.gather(                   \n",
    "                dim=1,\n",
    "                index=last_timesteps\n",
    "            ).squeeze()\n",
    "\n",
    "            pooled_sequence_output = self.dropout(pooled_sequence_output)      \n",
    "            logits = self.clf(pooled_sequence_output)                          \n",
    "        else:\n",
    "            if not self.aggregate_on_cls_token:\n",
    "                pooled_output = self.flatten_sequence_length(sequence_output)  \n",
    "\n",
    "            pooled_output = self.dropout(pooled_output)                        \n",
    "            logits = self.clf(pooled_output)                                  \n",
    "\n",
    "        return logits                                                          "
   ]
  },
  {
   "cell_type": "code",
   "execution_count": null,
   "metadata": {
    "id": "dxCTvXjTgG59"
   },
   "outputs": [],
   "source": [
    "model = FineTunedBert(pretrained_model_name=PRETRAINED_MODEL_NAME,\n",
    "                      vocab_file=\"drive/MyDrive/TwitterProject/data/vocabulary.txt\",\n",
    "                      num_pretrained_bert_layers=NUM_PRETRAINED_BERT_LAYERS,\n",
    "                      max_tokenization_length=MAX_TOKENIZATION_LENGTH,\n",
    "                      num_classes=NUM_CLASSES,\n",
    "                      top_down=TOP_DOWN,\n",
    "                      num_recurrent_layers=NUM_RECURRENT_LAYERS,\n",
    "                      use_bidirectional=USE_BIDIRECTIONAL,\n",
    "                      hidden_size=HIDDEN_SIZE,\n",
    "                      reinitialize_pooler_parameters=REINITIALIZE_POOLER_PARAMETERS,\n",
    "                      dropout_rate=DROPOUT_RATE,\n",
    "                      aggregate_on_cls_token=AGGREGATE_ON_CLS_TOKEN,\n",
    "                      concatenate_hidden_states=CONCATENATE_HIDDEN_STATES,\n",
    "                      use_gpu=True if torch.cuda.is_available() else False)"
   ]
  },
  {
   "cell_type": "code",
   "execution_count": null,
   "metadata": {
    "id": "PI9Tu71piwDn"
   },
   "outputs": [],
   "source": [
    "def tokenize_and_encode(text, tokenizer, header='', apply_cleaning=False, max_tokenization_length=512,\n",
    "                        truncation_method='head-only', split_head_density=0.5):\n",
    "    \"\"\"\n",
    "    Function to tokenize & encode a given text.\n",
    "    @param (str) text: a sequence of words to be tokenized in raw string format\n",
    "    @param (pytorch_transformers.BertTokenizer) tokenizer: tokenizer with pre-figured mappings\n",
    "    @param (bool) apply_cleaning: whether or not to perform common cleaning operations on texts;\n",
    "           note that enabling only makes sense if language of the task is English (default: False)\n",
    "    @param (int) max_tokenization_length: maximum number of positional embeddings, or the sequence\n",
    "           length of an example that will be fed to BERT model (default: 512)\n",
    "    @param (str) truncation_method: method that will be applied in case the text exceeds\n",
    "           @max_tokenization_length; currently implemented methods include 'head-only', 'tail-only',\n",
    "           and 'head+tail' (default: 'head-only')\n",
    "    @param (float) split_head_density: weight on head when splitting between head and tail, only\n",
    "           applicable if @truncation_method='head+tail' (default: 0.5)\n",
    "    @return (list) input_ids: the encoded integer indexes of the given text; note that\n",
    "            get_data_iterators() function converts this to a Tensor under the hood\n",
    "    \"\"\"\n",
    "    if apply_cleaning:\n",
    "        text = clean_text(text=text)\n",
    "\n",
    "    # Tokenize and encode\n",
    "    tokenized_text = tokenizer.tokenize(text)\n",
    "    input_ids = tokenizer.convert_tokens_to_ids(tokenized_text)\n",
    "    tokenized_header = tokenizer.tokenize(header)\n",
    "    header_ids = tokenizer.convert_tokens_to_ids(tokenized_header)\n",
    "\n",
    "    text_tokenization_length = max_tokenization_length - 3 - len(header_ids)\n",
    "    if len(input_ids) > text_tokenization_length:\n",
    "        if truncation_method == 'head-only':\n",
    "            input_ids = input_ids[:text_tokenization_length]\n",
    "        elif truncation_method == 'tail-only':\n",
    "            input_ids = input_ids[-text_tokenization_length:]\n",
    "        elif truncation_method == 'head+tail':\n",
    "            head_tokenization_length = int(text_tokenization_length * split_head_density)\n",
    "            tail_tokenization_length = text_tokenization_length - head_tokenization_length\n",
    "            input_head_ids = input_ids[:head_tokenization_length]\n",
    "            input_tail_ids = input_ids[-tail_tokenization_length:]\n",
    "            input_ids = input_head_ids + input_tail_ids  \n",
    "\n",
    "    cls_id = tokenizer.convert_tokens_to_ids('[CLS]')\n",
    "    sep_id = tokenizer.convert_tokens_to_ids('[SEP]')\n",
    "    input_ids = [cls_id] + header_ids + [sep_id] + input_ids + [sep_id]\n",
    "\n",
    "\n",
    "    pad_id = tokenizer.convert_tokens_to_ids('[PAD]')\n",
    "    if len(input_ids) < max_tokenization_length:\n",
    "        padding_length = max_tokenization_length - len(input_ids)\n",
    "        input_ids = input_ids + ([pad_id] * padding_length)\n",
    "\n",
    "    return input_ids\n",
    "\n",
    "\n",
    "def get_features(input_ids, tokenizer, device):\n",
    "    token_type_ids, attention_mask = [], []\n",
    "\n",
    "    for input_ids_example in input_ids:\n",
    "        input_ids_example = input_ids_example.squeeze().tolist()\n",
    "        if input_ids.shape[0] == 1:\n",
    "            input_ids_example = input_ids.squeeze().tolist()\n",
    "        padding_token_id = tokenizer.convert_tokens_to_ids('[PAD]')\n",
    "        padding_length = input_ids_example.count(padding_token_id)\n",
    "        text_length = len(input_ids_example) - padding_length\n",
    "\n",
    "        token_type_ids_example = [0] * len(input_ids_example)\n",
    "        attention_mask_example = ([1] * text_length) + ([0] * padding_length)\n",
    "\n",
    "        assert len(token_type_ids_example) == len(input_ids_example)\n",
    "        assert len(attention_mask_example) == len(input_ids_example)\n",
    "        token_type_ids.append(token_type_ids_example)\n",
    "        attention_mask.append(attention_mask_example)\n",
    "\n",
    "    token_type_ids = torch.tensor(data=token_type_ids, device=device)\n",
    "    attention_mask = torch.tensor(data=attention_mask, device=device)\n",
    "    return token_type_ids, attention_mask"
   ]
  },
  {
   "cell_type": "code",
   "execution_count": null,
   "metadata": {
    "id": "m0TlBFBBhfsO"
   },
   "outputs": [],
   "source": [
    "#Dataset\n",
    "class TweetDataset(Dataset):\n",
    "    def __init__(self, input_directory, tokenizer, apply_cleaning, max_tokenization_length,\n",
    "                 truncation_method='head-only', split_head_density=0.5, device='cpu'):\n",
    "        super(TweetDataset).__init__()\n",
    "        # agree folder\n",
    "        self.agree_path = os.path.join(input_directory, 'agree')\n",
    "        self.agree_files = [f for f in os.listdir(self.agree_path)\n",
    "                               if os.path.isfile(os.path.join(self.agree_path, f))]\n",
    "        self.num_agree_examples = len(self.agree_files)\n",
    "        self.agree_label = 0\n",
    "        \n",
    "        self.disagree_path = os.path.join(input_directory, 'disagree')\n",
    "        self.disagree_files = [f for f in os.listdir(self.disagree_path)\n",
    "                               if os.path.isfile(os.path.join(self.disagree_path, f))]\n",
    "        self.num_disagree_examples = len(self.disagree_files)\n",
    "        self.disagree_label = 1\n",
    "\n",
    "        self.nostance_path = os.path.join(input_directory, 'no_stance')\n",
    "        self.nostance_files = [f for f in os.listdir(self.nostance_path)\n",
    "                               if os.path.isfile(os.path.join(self.nostance_path, f))]\n",
    "        self.num_nostance_examples = len(self.nostance_files)\n",
    "        self.nostance_label = 2\n",
    "\n",
    "        self.notrelevant_path = os.path.join(input_directory, 'not_relevant')\n",
    "        self.notrelevant_files = [f for f in os.listdir(self.notrelevant_path)\n",
    "                               if os.path.isfile(os.path.join(self.notrelevant_path, f))]\n",
    "        self.num_notrelevant_examples = len(self.notrelevant_files)\n",
    "        self.notrelevant_label = 3\n",
    "\n",
    "        self.tokenizer = tokenizer\n",
    "        self.apply_cleaning = apply_cleaning\n",
    "        self.max_tokenization_length = max_tokenization_length\n",
    "        self.truncation_method = truncation_method\n",
    "        self.split_head_density = split_head_density\n",
    "        self.device = device\n",
    "\n",
    "        self.pre_tokenize_and_encode_examples()\n",
    "\n",
    "    def pre_tokenize_and_encode_examples(self):\n",
    "        self.__pre_tokenize_and_encode_examples__(self.agree_path, self.agree_files)\n",
    "        self.__pre_tokenize_and_encode_examples__(self.disagree_path, self.disagree_files)\n",
    "        self.__pre_tokenize_and_encode_examples__(self.nostance_path, self.nostance_files)\n",
    "        self.__pre_tokenize_and_encode_examples__(self.notrelevant_path, self.notrelevant_files)\n",
    "\n",
    "    def __pre_tokenize_and_encode_examples__(self, path, files):\n",
    "        if not os.path.exists(os.path.join(path, 'tokenized_and_encoded')):\n",
    "            os.mkdir(os.path.join(path, 'tokenized_and_encoded'))\n",
    "\n",
    "            for i in trange(len(files), desc='Tokenizing & Encoding {} Tweets'.format(path),\n",
    "                            leave=True):\n",
    "                file = files[i]\n",
    "                m_id = int(file.split('_')[0])\n",
    "                idx = target_idx.index(m_id)\n",
    "                target = targets[idx]\n",
    "                with open(os.path.join(path, file), mode='r', encoding='utf8') as f:\n",
    "                    example = f.read()\n",
    "                example = re.sub(r'<br />', '', example)\n",
    "                example = example.lstrip().rstrip()\n",
    "                example = re.sub(' +', ' ', example)\n",
    "                example = tokenize_and_encode(text=example,\n",
    "                                              header=target,\n",
    "                                              tokenizer=self.tokenizer,\n",
    "                                              apply_cleaning=self.apply_cleaning,\n",
    "                                              max_tokenization_length=self.max_tokenization_length,\n",
    "                                              truncation_method=self.truncation_method,\n",
    "                                              split_head_density=self.split_head_density)\n",
    "\n",
    "                with open(os.path.join(path, 'tokenized_and_encoded', file), mode='wb') as f:\n",
    "                    pickle.dump(obj=example, file=f)\n",
    "        else:\n",
    "            logging.warning('Tokenized {} directory already exists!'.format(path))\n",
    "\n",
    "    def __len__(self):\n",
    "        return len(self.agree_files) + len(self.disagree_files) + len(self.nostance_files) + len(self.notrelevant_files)\n",
    "\n",
    "    def __getitem__(self, index):\n",
    "        # agree\n",
    "        if index < self.num_agree_examples:\n",
    "            file = self.agree_files[index]\n",
    "            label = torch.tensor(data=self.agree_label, dtype=torch.long).to(self.device)\n",
    "            with open(os.path.join(self.agree_path, 'tokenized_and_encoded', file), mode='rb') as f:\n",
    "                example = pickle.load(file=f)\n",
    "        elif index < self.num_agree_examples + self.num_disagree_examples:\n",
    "            file = self.disagree_files[index - self.num_agree_examples]\n",
    "            label = torch.tensor(data=self.disagree_label, dtype=torch.long).to(self.device)\n",
    "            with open(os.path.join(self.disagree_path, 'tokenized_and_encoded', file), mode='rb') as f:\n",
    "                example = pickle.load(file=f)\n",
    "        elif index < self.num_agree_examples + self.num_disagree_examples + self.num_nostance_examples:\n",
    "            file = self.nostance_files[index - self.num_agree_examples - self.num_disagree_examples]\n",
    "            label = torch.tensor(data=self.nostance_label, dtype=torch.long).to(self.device)\n",
    "            with open(os.path.join(self.nostance_path, 'tokenized_and_encoded', file), mode='rb') as f:\n",
    "                example = pickle.load(file=f)\n",
    "        elif index < self.num_agree_examples + self.num_disagree_examples + self.num_nostance_examples + self.num_notrelevant_examples:\n",
    "            file = self.notrelevant_files[index - self.num_agree_examples - self.num_disagree_examples - self.num_nostance_examples]\n",
    "            label = torch.tensor(data=self.notrelevant_label, dtype=torch.long).to(self.device)\n",
    "            with open(os.path.join(self.notrelevant_path, 'tokenized_and_encoded', file), mode='rb') as f:\n",
    "                example = pickle.load(file=f)\n",
    "        else:\n",
    "            raise ValueError('Out of range index while accessing dataset')\n",
    "\n",
    "        return torch.from_numpy(np.array(example)).long().to(self.device), label"
   ]
  },
  {
   "cell_type": "code",
   "execution_count": null,
   "metadata": {
    "colab": {
     "base_uri": "https://localhost:8080/"
    },
    "id": "9iycmVn1g7sI",
    "outputId": "fd2f23d4-d813-4890-f4ec-371e85cc2eef"
   },
   "outputs": [
    {
     "name": "stderr",
     "output_type": "stream",
     "text": [
      "WARNING:root:Tokenized drive/MyDrive/CS 6320 Project/data/train/agree directory already exists!\n",
      "WARNING:root:Tokenized drive/MyDrive/CS 6320 Project/data/train/disagree directory already exists!\n",
      "WARNING:root:Tokenized drive/MyDrive/CS 6320 Project/data/train/no_stance directory already exists!\n",
      "WARNING:root:Tokenized drive/MyDrive/CS 6320 Project/data/train/not_relevant directory already exists!\n",
      "WARNING:root:Tokenized drive/MyDrive/CS 6320 Project/data/test/agree directory already exists!\n",
      "WARNING:root:Tokenized drive/MyDrive/CS 6320 Project/data/test/disagree directory already exists!\n",
      "WARNING:root:Tokenized drive/MyDrive/CS 6320 Project/data/test/no_stance directory already exists!\n",
      "WARNING:root:Tokenized drive/MyDrive/CS 6320 Project/data/test/not_relevant directory already exists!\n"
     ]
    },
    {
     "name": "stdout",
     "output_type": "stream",
     "text": [
      "<__main__.TweetDataset object at 0x7fb41e37bf90>\n"
     ]
    }
   ],
   "source": [
    "train_dataset = TweetDataset(input_directory=\"drive/MyDrive/TwitterProject/data/train\",\n",
    "                            tokenizer=model.get_tokenizer(),\n",
    "                            apply_cleaning=True,\n",
    "                            max_tokenization_length=MAX_TOKENIZATION_LENGTH,\n",
    "                            truncation_method='head-only',\n",
    "                            device=DEVICE)\n",
    "\n",
    "test_dataset = TweetDataset(input_directory=\"drive/MyDrive/CS 6320 Project/data/test\",\n",
    "                           tokenizer=model.get_tokenizer(),\n",
    "                           apply_cleaning=True,\n",
    "                           max_tokenization_length=MAX_TOKENIZATION_LENGTH,\n",
    "                           truncation_method='head-only',\n",
    "                           device=DEVICE)\n",
    "\n",
    "print(train_dataset)"
   ]
  },
  {
   "cell_type": "code",
   "execution_count": null,
   "metadata": {
    "id": "PNUq8sYYk5ut"
   },
   "outputs": [],
   "source": [
    "train_loader = DataLoader(dataset=train_dataset,\n",
    "                          batch_size=BATCH_SIZE,\n",
    "                          shuffle=True)\n",
    "\n",
    "test_loader = DataLoader(dataset=test_dataset,\n",
    "                         batch_size=BATCH_SIZE,\n",
    "                         shuffle=False)\n",
    "\n",
    "criterion = nn.CrossEntropyLoss()\n",
    "\n",
    "bert_learning_rate = BERT_LEARNING_RATE\n",
    "custom_learning_rate = CUSTOM_LEARNING_RATE\n",
    "bert_identifiers = ['embeddings']\n",
    "no_weight_decay_identifiers = ['bias', 'LayerNorm.weight']\n",
    "grouped_model_parameters = [\n",
    "        {'params': [param for name, param in model.named_parameters()\n",
    "                    if any(identifier in name for identifier in bert_identifiers) and\n",
    "                    not any(identifier_ in name for identifier_ in no_weight_decay_identifiers)],\n",
    "          'lr': bert_learning_rate,\n",
    "          'betas': (0.9, 0.999),\n",
    "          'weight_decay': 0.01,\n",
    "          'eps': 1e-8},\n",
    "        {'params': [param for name, param in model.named_parameters()\n",
    "                    if any(identifier in name for identifier in bert_identifiers) and\n",
    "                    any(identifier_ in name for identifier_ in no_weight_decay_identifiers)],\n",
    "          'lr': bert_learning_rate,\n",
    "          'betas': (0.9, 0.999),\n",
    "          'weight_decay': 0.0,\n",
    "          'eps': 1e-8},\n",
    "        {'params': [param for name, param in model.named_parameters()\n",
    "                    if not any(identifier in name for identifier in bert_identifiers)],\n",
    "          'lr': custom_learning_rate,\n",
    "          'betas': (0.9, 0.999),\n",
    "          'weight_decay': 0.0,\n",
    "          'eps': 1e-8}\n",
    "]\n",
    "\n",
    "optimizer = AdamW(grouped_model_parameters)\n"
   ]
  },
  {
   "cell_type": "code",
   "execution_count": null,
   "metadata": {
    "id": "dSLq8zcwjAkU"
   },
   "outputs": [],
   "source": [
    "model, criterion = model.to(DEVICE), criterion.to(DEVICE)"
   ]
  },
  {
   "cell_type": "code",
   "execution_count": null,
   "metadata": {
    "id": "BPKHP0jqjnnz"
   },
   "outputs": [],
   "source": [
    "def binary_accuracy(y_pred, y_true):\n",
    "    y_pred_max = torch.argmax(y_pred, dim=-1)\n",
    "    correct_pred = (y_pred_max == y_true).float()\n",
    "    acc = correct_pred.sum() / len(correct_pred)\n",
    "    return acc\n",
    "\n",
    "\n",
    "def train(model, iterator, criterion, optimizer, device, include_bert_masks=True):\n",
    "    epoch_loss, epoch_acc = 0.0, 0.0\n",
    "\n",
    "    for batch in iterator:\n",
    "        input_ids, labels = batch\n",
    "        token_type_ids, attention_mask = get_features(input_ids=input_ids,\n",
    "                                                      tokenizer=model.get_tokenizer(),\n",
    "                                                      device=device)\n",
    "        optimizer.zero_grad()\n",
    "        if include_bert_masks:\n",
    "            predictions = model(input_ids=input_ids,\n",
    "                                token_type_ids=token_type_ids,\n",
    "                                attention_mask=attention_mask)\n",
    "        else:\n",
    "            predictions = model(input_ids=input_ids,header_ids=header_ids)\n",
    "\n",
    "        loss = criterion(predictions, labels)\n",
    "        acc = binary_accuracy(predictions, labels)\n",
    "        loss.backward()\n",
    "        optimizer.step()\n",
    "\n",
    "        epoch_loss += loss.item()\n",
    "        epoch_acc += acc.item()\n",
    "\n",
    "    return epoch_loss / len(iterator), epoch_acc / len(iterator)\n",
    "\n",
    "\n",
    "def test(model, iterator, criterion, device, include_bert_masks=True):\n",
    "    epoch_loss, epoch_acc = 0.0, 0.0\n",
    "    confusion = [[0 for _ in range(0, 4)] for _ in range(0, 4)]\n",
    "\n",
    "    with torch.no_grad():\n",
    "        for batch in iterator:\n",
    "            input_ids, labels = batch\n",
    "            token_type_ids, attention_mask = get_features(input_ids=input_ids,\n",
    "                                                          tokenizer=model.get_tokenizer(),\n",
    "                                                          device=device)\n",
    "            if include_bert_masks:\n",
    "                predictions = model(input_ids=input_ids,\n",
    "                                    token_type_ids=token_type_ids,\n",
    "                                    attention_mask=attention_mask)\n",
    "            else:\n",
    "                predictions = model(input_ids=input_ids)\n",
    "\n",
    "            loss = criterion(predictions, labels)\n",
    "            acc = binary_accuracy(predictions, labels)\n",
    "            y_pred_max = torch.argmax(predictions, dim=-1)\n",
    "            confusion += confusion_matrix(labels.cpu().detach().numpy(),y_pred_max.cpu().detach().numpy(),labels=[0,1,2,3])\n",
    "            \n",
    "            epoch_loss += loss.item()\n",
    "            epoch_acc += acc.item()\n",
    "\n",
    "    \n",
    "    return epoch_loss / len(iterator), epoch_acc / len(iterator), confusion\n",
    "\n",
    "\n",
    "def get_attention_nth_layer_mth_head_kth_token(attention_outputs, n, m, k, average_heads=False):\n",
    "    if average_heads is True and m is not None:\n",
    "        logging.warning(\"Argument passed for param @m will be ignored because of head averaging.\")\n",
    "\n",
    "    attention_outputs_concatenated = torch.cat(attention_outputs, dim=0)       \n",
    "    attention_outputs = attention_outputs_concatenated.data[n, :, :, :]        \n",
    "\n",
    "    attention_outputs = attention_outputs[:, k, :]                             \n",
    "\n",
    "    if average_heads:\n",
    "        attention_outputs = torch.sum(attention_outputs, dim=0)               \n",
    "        num_attention_heads = attention_outputs_concatenated.shape[1]\n",
    "        attention_outputs /= num_attention_heads\n",
    "    else:\n",
    "        attention_outputs = attention_outputs[m, :]                           \n",
    "\n",
    "    return attention_outputs\n",
    "\n",
    "\n",
    "def get_attention_average_first_layer(attention_outputs):\n",
    "    return get_attention_nth_layer_mth_head_kth_token(attention_outputs=attention_outputs,\n",
    "                                                      n=0, m=None, k=0,\n",
    "                                                      average_heads=True)\n",
    "\n",
    "\n",
    "def get_attention_average_last_layer(attention_outputs):\n",
    "    return get_attention_nth_layer_mth_head_kth_token(attention_outputs=attention_outputs,\n",
    "                                                      n=-1, m=None, k=0,\n",
    "                                                      average_heads=True)\n",
    "\n",
    "\n",
    "def get_normalized_attention(model, raw_sentence, method='last_layer_heads_average',\n",
    "                             n=None, m=None, k=None, exclude_special_tokens=True,\n",
    "                             normalization_method='normal', device='cpu'):\n",
    "    if None in [n, m, k] and method == 'custom':\n",
    "        raise ValueError(\"Must pass integer argument for params @n, @m, and @k \" +\n",
    "                         \"if method is 'nth_layer_mth_head_kth_token'\")\n",
    "    elif None not in [n, m, k] and method != 'custom':\n",
    "        logging.warning(\"Arguments passed for params @n, @m, or @k will be ignored. \" +\n",
    "                        \"Specify @method as 'nth_layer_mth_head_kth_token' to make them effective.\")\n",
    "\n",
    "    if '[CLS]' not in raw_sentence and '[SEP]' not in raw_sentence:\n",
    "        tokenized_text = ['[CLS]'] + model.get_tokenizer().tokenize(raw_sentence) + ['[SEP]']\n",
    "    else:\n",
    "        tokenized_text = model.get_tokenizer().tokenize(raw_sentence)\n",
    "    model.eval()\n",
    "    with torch.no_grad():\n",
    "        attention_outputs = model.get_bert_attention(raw_sentence=raw_sentence, device=device)\n",
    "\n",
    "    attention_weights = None\n",
    "    if method == 'first_layer_heads_average':\n",
    "        attention_weights = get_attention_nth_layer_mth_head_kth_token(\n",
    "            attention_outputs=attention_outputs,\n",
    "            n=0, m=None, k=0,\n",
    "            average_heads=True\n",
    "        )\n",
    "    elif method == 'last_layer_heads_average':\n",
    "        attention_weights = get_attention_nth_layer_mth_head_kth_token(\n",
    "            attention_outputs=attention_outputs,\n",
    "            n=-1, m=None, k=0,\n",
    "            average_heads=True\n",
    "        )\n",
    "    elif method == 'nth_layer_heads_average':\n",
    "        attention_weights = get_attention_nth_layer_mth_head_kth_token(\n",
    "            attention_outputs=attention_outputs,\n",
    "            n=n, m=None, k=0,\n",
    "            average_heads=True\n",
    "        )\n",
    "    elif method == 'nth_layer_mth_head':\n",
    "        attention_weights = get_attention_nth_layer_mth_head_kth_token( \n",
    "            attention_outputs=attention_outputs,\n",
    "            n=n, m=m, k=0,\n",
    "            average_heads=False\n",
    "        )\n",
    "    elif method == 'custom':\n",
    "        attention_weights = get_attention_nth_layer_mth_head_kth_token(\n",
    "            attention_outputs=attention_outputs,\n",
    "            n=n, m=m, k=k,\n",
    "            average_heads=False\n",
    "        )\n",
    "\n",
    "    if exclude_special_tokens:\n",
    "        tokenized_text, attention_weights = tokenized_text[1:-1], attention_weights[1:-1]\n",
    "\n",
    "    if normalization_method == 'min-max':\n",
    "        max_weight, min_weight = attention_weights.max(), attention_weights.min()\n",
    "        attention_weights = (attention_weights - min_weight) / (max_weight - min_weight)\n",
    "\n",
    "    elif normalization_method == 'normal':\n",
    "        mu, std = attention_weights.mean(), attention_weights.std()\n",
    "        attention_weights = (attention_weights - mu) / std\n",
    "\n",
    "    attention_weights = attention_weights.data\n",
    "\n",
    "    tokens_and_weights = []\n",
    "    for index, token in enumerate(tokenized_text):\n",
    "        tokens_and_weights.append((token, attention_weights[index].item()))\n",
    "\n",
    "    return tokens_and_weights\n",
    "\n",
    "\n",
    "def get_delta_attention(tokens_and_weights_pre, tokens_and_weights_post):\n",
    "    tokens_and_weights_delta = []\n",
    "    for i, token_and_weight in enumerate(tokens_and_weights_pre):\n",
    "        token,  = token_and_weight[0],\n",
    "        assert token == tokens_and_weights_post[i][0]\n",
    "\n",
    "        pre_weight = token_and_weight[1]\n",
    "        post_weight = tokens_and_weights_post[i][1]\n",
    "\n",
    "        tokens_and_weights_delta.append((token, post_weight - pre_weight))\n",
    "\n",
    "    return tokens_and_weights_delta"
   ]
  },
  {
   "cell_type": "code",
   "execution_count": null,
   "metadata": {
    "colab": {
     "base_uri": "https://localhost:8080/"
    },
    "id": "ILdVyzhFjbmr",
    "outputId": "de904368-83bb-4c43-af55-6a02ffbebe2b"
   },
   "outputs": [
    {
     "name": "stdout",
     "output_type": "stream",
     "text": [
      "EPOCH NO: 1\n",
      "\tTrain Loss: 1.013 | Train Accuracy: 58.03%\n",
      "\tTest Loss:  0.979 | Test Accuracy:  62.50%\n",
      "\tTest confusion:\n",
      "[[41 10  0 11]\n",
      " [21  7  0  1]\n",
      " [19  4  0 16]\n",
      " [ 9  5  0 55]]\n",
      "EPOCH NO: 2\n",
      "\tTrain Loss: 0.979 | Train Accuracy: 58.78%\n",
      "\tTest Loss:  0.935 | Test Accuracy:  64.84%\n",
      "\tTest confusion:\n",
      "[[52  8  0  2]\n",
      " [23  6  0  0]\n",
      " [25  4  1  9]\n",
      " [16  3  0 50]]\n",
      "EPOCH NO: 3\n",
      "\tTrain Loss: 0.916 | Train Accuracy: 62.07%\n",
      "\tTest Loss:  0.846 | Test Accuracy:  67.19%\n",
      "\tTest confusion:\n",
      "[[52  6  0  4]\n",
      " [22  7  0  0]\n",
      " [24  4  1 10]\n",
      " [14  0  0 55]]\n",
      "EPOCH NO: 4\n",
      "\tTrain Loss: 0.848 | Train Accuracy: 65.25%\n",
      "\tTest Loss:  0.867 | Test Accuracy:  67.58%\n",
      "\tTest confusion:\n",
      "[[41 11  1  9]\n",
      " [17 10  1  1]\n",
      " [18  5  1 15]\n",
      " [ 5  0  0 64]]\n",
      "EPOCH NO: 5\n",
      "\tTrain Loss: 0.820 | Train Accuracy: 66.97%\n",
      "\tTest Loss:  0.868 | Test Accuracy:  66.41%\n",
      "\tTest confusion:\n",
      "[[37 15  2  8]\n",
      " [13 15  1  0]\n",
      " [18  8  1 12]\n",
      " [ 8  1  0 60]]\n",
      "EPOCH NO: 6\n"
     ]
    }
   ],
   "source": [
    "#Training\n",
    "\n",
    "best_test_loss = float('inf')\n",
    "train_losses = []\n",
    "train_accuracies = []\n",
    "test_losses = []\n",
    "test_accuracies = []\n",
    "worst_test_count = 0\n",
    "prev_test_loss = 0\n",
    "epoch_count = 0\n",
    "\n",
    "for epoch in range(NUM_EPOCHS):\n",
    "    epoch_count += 1\n",
    "    print(\"EPOCH NO: %d\" % (epoch + 1))\n",
    "    train_loss, train_acc = train(model=model,\n",
    "                                  iterator=train_loader,\n",
    "                                  criterion=criterion,\n",
    "                                  optimizer=optimizer,\n",
    "                                  device=DEVICE,\n",
    "                                  include_bert_masks=True)\n",
    "    \n",
    "    test_loss, test_acc, confusion = test(model=model,\n",
    "                              iterator=test_loader,\n",
    "                              criterion=criterion,\n",
    "                              device=DEVICE,\n",
    "                              include_bert_masks=True)\n",
    "    \n",
    "    if test_loss > prev_test_loss:\n",
    "        worst_test_count += 1\n",
    "    if worst_test_count == 4:\n",
    "        break\n",
    "    prev_test_loss = test_loss\n",
    "\n",
    "    train_losses.append(train_loss)\n",
    "    train_accuracies.append(train_acc)\n",
    "    test_losses.append(test_loss)\n",
    "    test_accuracies.append(test_acc)\n",
    "    \n",
    "\n",
    "    if test_loss < best_test_loss:\n",
    "        best_test_loss = test_loss\n",
    "        torch.save(model.state_dict(), 'drive/MyDrive/TwitterProject/saved_models/BERT-stance-detection-drop-0.4.pt')\n",
    "\n",
    "    print(f'\\tTrain Loss: {train_loss:.3f} | Train Accuracy: {train_acc * 100:.2f}%')\n",
    "    print(f'\\tTest Loss:  {test_loss:.3f} | Test Accuracy:  {test_acc * 100:.2f}%')\n",
    "    print(f'\\tTest confusion:\\n{confusion}')"
   ]
  },
  {
   "cell_type": "code",
   "execution_count": null,
   "metadata": {
    "colab": {
     "base_uri": "https://localhost:8080/",
     "height": 295
    },
    "id": "-z4g41N8_1bO",
    "outputId": "46e2d8fe-f2d1-4298-deb9-92ffc710bfe8"
   },
   "outputs": [
    {
     "data": {
      "image/png": "[encoded data removed]",
      "text/plain": [
       "<Figure size 432x288 with 1 Axes>"
      ]
     },
     "metadata": {
      "needs_background": "light",
      "tags": []
     },
     "output_type": "display_data"
    }
   ],
   "source": [
    "#Plots \n",
    "plt.plot(range(0, epoch_count-1), train_losses, 'bo', label='Training loss')\n",
    "plt.plot(range(0, epoch_count-1), test_losses, 'b', label='Validation loss')\n",
    "plt.title('Training and validation loss')\n",
    "plt.xlabel('Epochs')\n",
    "plt.ylabel('Loss')\n",
    "plt.legend()\n",
    "\n",
    "plt.show()"
   ]
  },
  {
   "cell_type": "code",
   "execution_count": null,
   "metadata": {
    "colab": {
     "base_uri": "https://localhost:8080/",
     "height": 295
    },
    "id": "qYuCf1D6APOM",
    "outputId": "8a47c929-349f-4296-cbdb-4825b2b4ff5e"
   },
   "outputs": [
    {
     "data": {
      "image/png": "[encoded data removed]",
      "text/plain": [
       "<Figure size 432x288 with 1 Axes>"
      ]
     },
     "metadata": {
      "needs_background": "light",
      "tags": []
     },
     "output_type": "display_data"
    }
   ],
   "source": [
    "plt.plot(range(0, epoch_count-1), train_accuracies, 'bo', label='Training accuracy')\n",
    "plt.plot(range(0, epoch_count-1), test_accuracies, 'b', label='Validation accuracy')\n",
    "plt.title('Training and validation accuracies')\n",
    "plt.xlabel('Epochs')\n",
    "plt.ylabel('Accuracies')\n",
    "plt.legend()\n",
    "\n",
    "plt.show()"
   ]
  },
  {
   "cell_type": "code",
   "execution_count": null,
   "metadata": {
    "colab": {
     "base_uri": "https://localhost:8080/"
    },
    "id": "1Fu_Dgl7qKjN",
    "outputId": "a306c66f-d897-4974-f87f-462c079716c3"
   },
   "outputs": [
    {
     "data": {
      "text/plain": [
       "<All keys matched successfully>"
      ]
     },
     "execution_count": 24,
     "metadata": {
      "tags": []
     },
     "output_type": "execute_result"
    }
   ],
   "source": [
    "# Prediction\n",
    "model.load_state_dict(torch.load('drive/MyDrive/TwitterProject/saved_models/BERT-b1-r1-h256-d6-blr1e-5.pt'))"
   ]
  },
  {
   "cell_type": "code",
   "execution_count": null,
   "metadata": {
    "colab": {
     "base_uri": "https://localhost:8080/",
     "height": 428
    },
    "id": "kxzVKP2eEAaz",
    "outputId": "c868e68f-da3f-4769-da6e-9e3ae2d5074e"
   },
   "outputs": [
    {
     "ename": "TypeError",
     "evalue": "ignored",
     "output_type": "error",
     "traceback": [
      "\u001b[0;31m---------------------------------------------------------------------------\u001b[0m",
      "\u001b[0;31mTypeError\u001b[0m                                 Traceback (most recent call last)",
      "\u001b[0;32m<ipython-input-65-e4c531554bec>\u001b[0m in \u001b[0;36m<module>\u001b[0;34m()\u001b[0m\n\u001b[1;32m      4\u001b[0m                             \u001b[0mcriterion\u001b[0m\u001b[0;34m=\u001b[0m\u001b[0mcriterion\u001b[0m\u001b[0;34m,\u001b[0m\u001b[0;34m\u001b[0m\u001b[0;34m\u001b[0m\u001b[0m\n\u001b[1;32m      5\u001b[0m                             \u001b[0mdevice\u001b[0m\u001b[0;34m=\u001b[0m\u001b[0mDEVICE\u001b[0m\u001b[0;34m,\u001b[0m\u001b[0;34m\u001b[0m\u001b[0;34m\u001b[0m\u001b[0m\n\u001b[0;32m----> 6\u001b[0;31m                             include_bert_masks=True)\n\u001b[0m\u001b[1;32m      7\u001b[0m \u001b[0mprint\u001b[0m\u001b[0;34m(\u001b[0m\u001b[0mpredictions\u001b[0m\u001b[0;34m)\u001b[0m\u001b[0;34m\u001b[0m\u001b[0;34m\u001b[0m\u001b[0m\n\u001b[1;32m      8\u001b[0m \u001b[0mprint\u001b[0m\u001b[0;34m(\u001b[0m\u001b[0mlabels\u001b[0m\u001b[0;34m)\u001b[0m\u001b[0;34m\u001b[0m\u001b[0;34m\u001b[0m\u001b[0m\n",
      "\u001b[0;32m<ipython-input-64-56554aab73d1>\u001b[0m in \u001b[0;36mtest\u001b[0;34m(model, iterator, criterion, device, include_bert_masks)\u001b[0m\n\u001b[1;32m     94\u001b[0m             \u001b[0mepoch_loss\u001b[0m \u001b[0;34m+=\u001b[0m \u001b[0mloss\u001b[0m\u001b[0;34m.\u001b[0m\u001b[0mitem\u001b[0m\u001b[0;34m(\u001b[0m\u001b[0;34m)\u001b[0m\u001b[0;34m\u001b[0m\u001b[0;34m\u001b[0m\u001b[0m\n\u001b[1;32m     95\u001b[0m             \u001b[0mepoch_acc\u001b[0m \u001b[0;34m+=\u001b[0m \u001b[0macc\u001b[0m\u001b[0;34m.\u001b[0m\u001b[0mitem\u001b[0m\u001b[0;34m(\u001b[0m\u001b[0;34m)\u001b[0m\u001b[0;34m\u001b[0m\u001b[0;34m\u001b[0m\u001b[0m\n\u001b[0;32m---> 96\u001b[0;31m             \u001b[0mall_predictions\u001b[0m \u001b[0;34m=\u001b[0m \u001b[0mnp\u001b[0m\u001b[0;34m.\u001b[0m\u001b[0mconcatenate\u001b[0m\u001b[0;34m(\u001b[0m\u001b[0mall_predictions\u001b[0m\u001b[0;34m,\u001b[0m \u001b[0my_pred_max\u001b[0m\u001b[0;34m.\u001b[0m\u001b[0mcpu\u001b[0m\u001b[0;34m(\u001b[0m\u001b[0;34m)\u001b[0m\u001b[0;34m.\u001b[0m\u001b[0mdetach\u001b[0m\u001b[0;34m(\u001b[0m\u001b[0;34m)\u001b[0m\u001b[0;34m.\u001b[0m\u001b[0mnumpy\u001b[0m\u001b[0;34m(\u001b[0m\u001b[0;34m)\u001b[0m\u001b[0;34m,\u001b[0m \u001b[0maxis\u001b[0m\u001b[0;34m=\u001b[0m\u001b[0;36m0\u001b[0m\u001b[0;34m)\u001b[0m\u001b[0;34m\u001b[0m\u001b[0;34m\u001b[0m\u001b[0m\n\u001b[0m\u001b[1;32m     97\u001b[0m             \u001b[0mall_labels\u001b[0m \u001b[0;34m=\u001b[0m \u001b[0mnp\u001b[0m\u001b[0;34m.\u001b[0m\u001b[0mconcatenate\u001b[0m\u001b[0;34m(\u001b[0m\u001b[0mall_labels\u001b[0m\u001b[0;34m,\u001b[0m \u001b[0mlabels\u001b[0m\u001b[0;34m.\u001b[0m\u001b[0mcpu\u001b[0m\u001b[0;34m(\u001b[0m\u001b[0;34m)\u001b[0m\u001b[0;34m.\u001b[0m\u001b[0mdetach\u001b[0m\u001b[0;34m(\u001b[0m\u001b[0;34m)\u001b[0m\u001b[0;34m.\u001b[0m\u001b[0mnumpy\u001b[0m\u001b[0;34m(\u001b[0m\u001b[0;34m)\u001b[0m\u001b[0;34m,\u001b[0m \u001b[0maxis\u001b[0m\u001b[0;34m=\u001b[0m\u001b[0;36m0\u001b[0m\u001b[0;34m)\u001b[0m\u001b[0;34m\u001b[0m\u001b[0;34m\u001b[0m\u001b[0m\n\u001b[1;32m     98\u001b[0m \u001b[0;34m\u001b[0m\u001b[0m\n",
      "\u001b[0;32m<__array_function__ internals>\u001b[0m in \u001b[0;36mconcatenate\u001b[0;34m(*args, **kwargs)\u001b[0m\n",
      "\u001b[0;31mTypeError\u001b[0m: concatenate() got multiple values for argument 'axis'"
     ]
    }
   ],
   "source": [
    "test_loss, test_acc, confusion, predictions, labels = test(model=model,\n",
    "                            iterator=test_loader,\n",
    "                            criterion=criterion,\n",
    "                            device=DEVICE,\n",
    "                            include_bert_masks=True)\n",
    "\n",
    "print(f'Test Loss:  {test_loss:.3f} | Test Accuracy:  {test_acc * 100:.2f}%')\n",
    "print(f\"F1: {f1}\")\n",
    "print(f'Test confusion:\\n{confusion}')"
   ]
  },
  {
   "cell_type": "code",
   "execution_count": null,
   "metadata": {
    "id": "IWd533cW69ZR"
   },
   "outputs": [],
   "source": [
    "def predict(tweet, header_id, print_results = False):\n",
    "    labels = [\"agree\", \"disagree\", \"no_stance\", \"not_relevant\"]\n",
    "\n",
    "    prediction = model.predict(tweet, header_id)\n",
    "    if print_results:\n",
    "        print(\"Target: \" + targets[target_idx.index(header_id)])\n",
    "        print(\"Tweet: \" + tweet)\n",
    "        print(labels[torch.argmax(prediction, dim=-1)])\n",
    "    return labels[torch.argmax(prediction, dim=-1)]"
   ]
  },
  {
   "cell_type": "code",
   "execution_count": null,
   "metadata": {
    "id": "rjyuDH8X5lPX"
   },
   "outputs": [],
   "source": [
    "tweets = dict()\n",
    "outputs = []\n",
    "with open('drive/MyDrive/TwitterProject/test_data/test_tweets.jsonl') as f:\n",
    "    for line in f:\n",
    "        obj = json.loads(line)\n",
    "        tweets[obj['id']] = obj['text']\n",
    "\n",
    "with open('drive/MyDrive/TwitterProject/test_data/test_candidates.jsonl') as f:\n",
    "    for line in f:\n",
    "        obj = json.loads(line)\n",
    "        tweet_id = obj['tweet_id']\n",
    "        tweet = tweets[tweet_id]\n",
    "        m_id = int(obj['m_id'])\n",
    "        prediction = predict(tweet, m_id)\n",
    "        output = dict()\n",
    "        output['tweet_id'] = tweet_id\n",
    "        output['m_id'] = str(m_id)\n",
    "        output['m_label'] = prediction\n",
    "        outputs.append(json.dumps(output))\n",
    "\n",
    "with open('drive/MyDrive/TwitterProject/test_data/output/X1_test_outputs.jsonl', 'w+') as f:\n",
    "    for line in outputs:\n",
    "        f.write(line + \"\\n\")"
   ]
  },
  {
   "cell_type": "code",
   "execution_count": null,
   "metadata": {
    "id": "h__9Nb41zOeb"
   },
   "outputs": [],
   "source": [
    "tweet = \"@JCope222 Vaccine is untested for safety. People have died in he trials. Natural immunity scores 99.975% recovery from Covid for your age group\"\n",
    "header_id = 1\n",
    "\n",
    "predict(tweet, header_id)"
   ]
  }
 ],
 "metadata": {
  "accelerator": "GPU",
  "colab": {
   "collapsed_sections": [],
   "machine_shape": "hm",
   "name": "BERT Stance Detection",
   "provenance": [],
   "toc_visible": true
  },
  "kernelspec": {
   "display_name": "Python 3",
   "language": "python",
   "name": "python3"
  },
  "language_info": {
   "codemirror_mode": {
    "name": "ipython",
    "version": 3
   },
   "file_extension": ".py",
   "mimetype": "text/x-python",
   "name": "python",
   "nbconvert_exporter": "python",
   "pygments_lexer": "ipython3",
   "version": "3.7.7"
  }
 },
 "nbformat": 4,
 "nbformat_minor": 1
}
